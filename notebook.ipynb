{
  "cells": [
    {
      "metadata": {
        "_cell_guid": "b1076dfc-b9ad-4769-8c92-a6c4dae69d19",
        "_uuid": "8f2839f25d086af736a60e9eeb907d3b93b6e0e5",
        "scrolled": true,
        "trusted": true,
        "collapsed": true
      },
      "cell_type": "code",
      "source": "import numpy as np\nimport pandas as pd\nimport seaborn as sns\nimport matplotlib.pyplot as plt\n%matplotlib inline\nimport os\nprint(os.listdir(\"../input\"))\n\n## ML Imports\nfrom sklearn.ensemble import RandomForestRegressor\nfrom xgboost import XGBRegressor\n\n# Processing and Metric Imports\nfrom sklearn.pipeline import make_pipeline\nfrom sklearn.base import BaseEstimator, TransformerMixin\nfrom sklearn.model_selection import train_test_split\nfrom sklearn.preprocessing import Imputer\nfrom sklearn.metrics import mean_absolute_error\nfrom sklearn.model_selection import GridSearchCV",
      "execution_count": 7,
      "outputs": []
    },
    {
      "metadata": {
        "_cell_guid": "3a758c60-4e09-4294-af15-9fa9ff51fc78",
        "_uuid": "55533bd1d87a810bd5ed26317247d7c90d53801e",
        "trusted": true,
        "collapsed": true
      },
      "cell_type": "code",
      "source": "# Data Retrieval\ndf = pd.read_csv('../input/train.csv')\nbackup = df.copy()\n# Split into Training Data and Target\nX_ids = df['Id']\nX = df.drop(['Id', 'SalePrice'], axis=1)\ny = df.loc[:, ['SalePrice']]",
      "execution_count": 12,
      "outputs": []
    },
    {
      "metadata": {
        "_cell_guid": "1cbe8f63-c2a1-40e8-8e3b-f6e3838293a7",
        "_uuid": "2d84d5b764fc82cc04d098dd7c04fecd9b04bc97"
      },
      "cell_type": "markdown",
      "source": "---\n# EDA and Initial Guesses\n* Big Picture, Correlation,  PDPs, Outliers"
    },
    {
      "metadata": {
        "_uuid": "8ebbf89551da36c128566055a33679d8230226f3"
      },
      "cell_type": "markdown",
      "source": "**Big Picture Look at SalePrices**\n* Most prices around the upper 100k to lower 200k\n* Interestingly, two houses > 700k"
    },
    {
      "metadata": {
        "trusted": true,
        "scrolled": true,
        "_uuid": "2423b0f9bfe5a7876fa9fe994979578288bda8bb",
        "collapsed": true
      },
      "cell_type": "code",
      "source": "# Outliers\nfig, ax = plt.subplots(nrows=2, ncols=1, figsize=(10, 5))\nsns.distplot(df['SalePrice'], kde=False, ax=ax[0])\nax[0].set_title('Distribution of SalePrices')\nsns.boxplot(y='SalePrice', data=df, orient='h', ax=ax[1])\nax[1].set_title('BoxPlot of SalePrices')\nplt.tight_layout()",
      "execution_count": 32,
      "outputs": []
    },
    {
      "metadata": {
        "_uuid": "6d76534664842c1beb6aa62b72fdeec78a525365"
      },
      "cell_type": "markdown",
      "source": "**Correlations**\n* Curious to see which features share the most linear relationship with SalePrice"
    },
    {
      "metadata": {
        "trusted": true,
        "scrolled": true,
        "_uuid": "5ece37f7119d71ed701a4aa661264d788ad257e4",
        "collapsed": true
      },
      "cell_type": "code",
      "source": "fig, axes = plt.subplots(figsize=(20, 4.5))\nsaleprice_corr = np.abs(df.drop(['Id'], axis=1).corr()['SalePrice']).sort_values(ascending=False)[1:]\nsns.barplot(x=saleprice_corr.index, y=saleprice_corr, palette='gist_heat')\nplt.title('Absolute Value of Correlation Coefficient Between Features and SalePrice')\nplt.xticks(rotation='90')\nplt.tight_layout();",
      "execution_count": 28,
      "outputs": []
    },
    {
      "metadata": {
        "trusted": true,
        "_uuid": "39ae29d517ff6cc02b02ff242795e34c54121730",
        "collapsed": true
      },
      "cell_type": "code",
      "source": "fig, axes = plt.subplots(nrows=1, ncols=1, figsize=(10, 10))\nsns.heatmap(df.drop(['Id'], axis=1).corr(), vmax=.8, square=True, cmap='coolwarm', ax=axes)\nplt.title('Correlation Heatmap')\nplt.tight_layout()",
      "execution_count": 31,
      "outputs": []
    },
    {
      "metadata": {
        "_cell_guid": "393493b0-0f6b-4676-b38d-efd4be1e8df7",
        "_uuid": "3ca0c74f0e6fbd1de734a5f4faf4e6f22cc53749"
      },
      "cell_type": "markdown",
      "source": "## Missing Data"
    },
    {
      "metadata": {
        "_cell_guid": "b23fea5b-e65f-4400-ac9b-6d85abbbb8b3",
        "_uuid": "0532196828e6019b9d19e76f85998249f7a9412a",
        "scrolled": true,
        "trusted": false,
        "collapsed": true
      },
      "cell_type": "code",
      "source": "# Percent Missing in Each Column\nmissing_amts = np.around(100*X.isnull().sum()/X.shape[0], 2)\nprint(missing_amts[missing_amts > 10].sort_values(ascending=False).to_string())",
      "execution_count": null,
      "outputs": []
    },
    {
      "metadata": {
        "_cell_guid": "f91cbbcc-f4a0-4eb6-ba2b-a87ca8482bfb",
        "_uuid": "215af05ece3d45aece79942a9bf1a0119e782a63"
      },
      "cell_type": "markdown",
      "source": "**PoolQC, MiscFeature, Alley, Fence, and FireplaceQu** have > 40% of missing data. It may be worth investigating which  of these would be best removed for the model."
    },
    {
      "metadata": {
        "_cell_guid": "5a6f7e21-3d19-41e0-9e35-427a3194ab71",
        "_uuid": "48b39ac8409629b2ce8d3664de8128c43271ce93"
      },
      "cell_type": "markdown",
      "source": "___\n# Basic RandomForestRegressor Model"
    },
    {
      "metadata": {
        "_cell_guid": "3016cf0e-2d30-46a3-a273-fc69cf30d298",
        "_uuid": "1779e31655a4ea24e43763a4b6484550ab48ae97"
      },
      "cell_type": "markdown",
      "source": "___\n# Preprocessing Pipeline Creation"
    },
    {
      "metadata": {
        "_cell_guid": "85620f0a-48d6-43a0-a76f-6d680e8f4902",
        "_uuid": "3a1864af11cf6031da2e9ef9f6194d24130d9c11",
        "trusted": true,
        "collapsed": true
      },
      "cell_type": "code",
      "source": "class ImputationIndicators(BaseEstimator, TransformerMixin):\n    \"\"\"Create columns indicating whether a column underwent imputation.\n\n    For columns with missing values, another bool column is created with\n    naming convention {column's name}_was_missing, indicating this.\n    \"\"\"\n    def fit(self, x, y=None):\n        return self\n\n    def transform(self, X):\n        cols_with_missing_values = (col for col in X.columns if X[col].isnull().any())\n        for col in cols_with_missing_values:\n            X[col + '_was_missing'] = X.loc[:, col].isnull()\n        return X",
      "execution_count": 13,
      "outputs": []
    },
    {
      "metadata": {
        "_cell_guid": "47ddb492-551f-47d1-914e-92b3c9644945",
        "_uuid": "3223ce4240355f255bed8230ed391e637a00b6cf",
        "collapsed": true,
        "trusted": true
      },
      "cell_type": "code",
      "source": "class PandasOneHot(BaseEstimator, TransformerMixin):\n    \"\"\"One Hot Encoding of Categorical Variables\n\n    Convert categorical variable to indicator variables.\n    \"\"\"\n    def fit(self, x, y=None):\n        return self\n\n    def transform(self, X):\n        return pd.get_dummies(X)",
      "execution_count": 14,
      "outputs": []
    },
    {
      "metadata": {
        "_cell_guid": "24089acb-14c0-4e4f-8f57-e78e9037ab3f",
        "_uuid": "5162c14b4de1e5fe3b7997e9a51731188f5a963d",
        "collapsed": true,
        "trusted": true
      },
      "cell_type": "code",
      "source": "# This pipeline will create Imputation indicator columns and OneHot Encode Variables (imputation built-in on XGBoost Regressor)\nmy_pipeline = make_pipeline(ImputationIndicators(), PandasOneHot())",
      "execution_count": 15,
      "outputs": []
    },
    {
      "metadata": {
        "_cell_guid": "9e7e10e6-834a-4d1f-a0ee-587d7710adf5",
        "_uuid": "41ca6c97c5279175b10ca0253b1fe5a089a63a81"
      },
      "cell_type": "markdown",
      "source": "___\n# Basic RandomForestRegressor Model\nFor investigating features etc."
    },
    {
      "metadata": {
        "_cell_guid": "5675ace6-6c2c-4a52-ba63-625ea45493a4",
        "_uuid": "e54a4d5d9f352551e9c8cbf5c1a29a65b8eeae26",
        "trusted": true,
        "collapsed": true
      },
      "cell_type": "code",
      "source": "# Split Dataset\n# Data Retrieval\ndf = pd.read_csv('../input/train.csv')\nbackup = df.copy()\n# Split into Training Data and Target\nX_ids = df['Id']\nX = df.drop(['Id', 'SalePrice'], axis=1)\ny = df.loc[:, ['SalePrice']]\ntrain_X, valid_X, train_y, valid_y = train_test_split(my_pipeline.fit_transform(X), y, random_state=7, test_size=0.1)",
      "execution_count": 26,
      "outputs": []
    },
    {
      "metadata": {
        "_cell_guid": "79c7e3d0-c299-4dcb-8224-4455121ee9b0",
        "_uuid": "d629ff2d2480ee46fbb7e2d37f6b5fab8052498a",
        "trusted": true,
        "collapsed": true
      },
      "cell_type": "code",
      "source": "rf_pipeline = make_pipeline(Imputer(), RandomForestRegressor());\nrf_pipeline.fit(train_X, train_y.values.ravel());\nprint('MAE:', mean_absolute_error(rf_pipeline.predict(valid_X), valid_y))",
      "execution_count": 27,
      "outputs": []
    },
    {
      "metadata": {
        "_cell_guid": "f1523dfd-c400-43a1-b4ce-1daae7d39ce9",
        "_uuid": "2802fa0bbfff0249c5327135d65ef51f6fa490f8",
        "collapsed": true
      },
      "cell_type": "markdown",
      "source": "# Consider Dropping Columns with Missing Values"
    },
    {
      "metadata": {
        "_cell_guid": "7fe7330c-95d0-4216-a44b-558c25c0d2ad",
        "_uuid": "4ba617c8a3c03f0cc4f571b16e8283eb5aa4cc6a",
        "collapsed": true,
        "trusted": false
      },
      "cell_type": "code",
      "source": "from itertools import combinations\ndef get_subsets(s):\n    for sz in range(len(s)):\n        yield from combinations(s, sz)\nbad_cols = ['PoolQC', 'MiscFeature', 'Alley', 'Fence', 'FireplaceQu', 'Id'] # missing_amts.sort_values(ascending=False).index[:5]",
      "execution_count": null,
      "outputs": []
    },
    {
      "metadata": {
        "_cell_guid": "431231fc-6543-4613-84df-b83e17d1fee6",
        "_uuid": "614009c1b3c60dec553276e60ff70e2acc1992b2"
      },
      "cell_type": "markdown",
      "source": "### Try all subsets of removing columns with top 5 most missing values"
    },
    {
      "metadata": {
        "_cell_guid": "efcbabed-a9d5-4a03-8c34-239898f69bc4",
        "_uuid": "99e65d4c2cf092720b6bd7781f5f110e9fcabba2",
        "trusted": false,
        "collapsed": true
      },
      "cell_type": "code",
      "source": "%%time\nresults = {k: 0 for k in get_subsets(bad_cols)}\nfor n in range(1, 10, 2):\n    for bad_col_subset in list(get_subsets(bad_cols)):\n        # Preparing Datasets\n        train_X, valid_X, train_y, valid_y = train_test_split(my_pipeline.fit_transform(X.drop(list(bad_col_subset), axis=1)), y, test_size=0.1, random_state=7)\n\n        # Pipeline Creation and Fitting\n        rf_dropped_pipeline = make_pipeline(Imputer(), RandomForestRegressor())\n        rf_dropped_pipeline.fit(train_X, train_y.values.ravel())\n\n        results[bad_col_subset] += mean_absolute_error(rf_dropped_pipeline.predict(valid_X), valid_y)",
      "execution_count": null,
      "outputs": []
    },
    {
      "metadata": {
        "_cell_guid": "1b4eb823-d9c5-469d-8ef8-cd7ea13c33d1",
        "_uuid": "1966db8df0bc439e81a4b98d540a11c9be4a0aaa",
        "trusted": false,
        "collapsed": true
      },
      "cell_type": "code",
      "source": "sorted(results.items(), key = lambda x: x[1])[:5]",
      "execution_count": null,
      "outputs": []
    },
    {
      "metadata": {
        "_cell_guid": "1b9d946d-4a87-4a12-8399-396cb1dc19f6",
        "_uuid": "3ba50ed67a117c05f0c3c84f41c1d448fdabe7a3"
      },
      "cell_type": "markdown",
      "source": "### Use with Basic Model "
    },
    {
      "metadata": {
        "_cell_guid": "5675ace6-6c2c-4a52-ba63-625ea45493a4",
        "_uuid": "e54a4d5d9f352551e9c8cbf5c1a29a65b8eeae26",
        "trusted": false,
        "collapsed": true
      },
      "cell_type": "code",
      "source": "X_drop_bad_cols = X.drop(list(['PoolQC', 'MiscFeature', 'Alley', 'Id']), axis=1)\n# Split Dataset\ntrain_X, valid_X, train_y, valid_y = train_test_split(my_pipeline.fit_transform(X_drop_bad_cols), y, random_state=7, test_size=0.1)\n# Predict\nrf_pipeline = make_pipeline(Imputer(), RandomForestRegressor());\nrf_pipeline.fit(train_X, train_y.values.ravel());\nprint('MAE:', mean_absolute_error(rf_pipeline.predict(valid_X), valid_y))",
      "execution_count": null,
      "outputs": []
    },
    {
      "metadata": {
        "_cell_guid": "19fba109-c520-4b6e-a9f7-78b66b3c455d",
        "_uuid": "df18b28e0ee4f6b9b421aef616b3113d232e2039",
        "collapsed": true
      },
      "cell_type": "markdown",
      "source": "---"
    },
    {
      "metadata": {
        "_cell_guid": "d98f8b2c-e115-47e5-96ca-fedb0ab25f6d",
        "_uuid": "96b6b19f226067923ed3b65179cd5e1d681b0231"
      },
      "cell_type": "markdown",
      "source": "# Model Tuning"
    },
    {
      "metadata": {
        "_cell_guid": "1bf70567-f6a3-430e-9d33-69c7cca004ed",
        "_uuid": "8a097dc90a6afb8f91e0154694aee23a06acd0b5"
      },
      "cell_type": "markdown",
      "source": "## (1) max_depth and min_child_weight"
    },
    {
      "metadata": {
        "_cell_guid": "81dfa327-ea04-4cd5-8d46-8df9a0a4859a",
        "_uuid": "9d4025ebe26b836036d68fcf0f6959ef36b842e7",
        "collapsed": true,
        "trusted": false
      },
      "cell_type": "code",
      "source": "%%time\nparams = {'max_depth':range(3,10,2), 'min_child_weight':range(1,6,2)}\ngsearch1 = GridSearchCV(estimator = XGBRegressor(learning_rate =0.11899942, n_estimators=10000, max_depth=5, min_child_weight=1, gamma=0, subsample=0.8 ,colsample_bytree=0.8),\n                        return_train_score= True,\n                        param_grid = params,\n                        scoring='neg_mean_absolute_error',\n                        n_jobs=-1, \n                        iid=False,\n                        cv = 5)\ngsearch1.fit(train_X, train_y)",
      "execution_count": null,
      "outputs": []
    },
    {
      "metadata": {
        "_cell_guid": "7074a31a-72dd-49e1-82c0-669116899199",
        "_uuid": "70d82303459775c49234b28a8d52fae4ec4a5491",
        "trusted": false,
        "collapsed": true
      },
      "cell_type": "code",
      "source": "xgb = XGBRegressor(learning_rate =0.11899942, n_estimators=10000, max_depth=5, min_child_weight=1, gamma=0, subsample=0.8 ,colsample_bytree=0.8)\nmodel = xgb.fit(train_X, train_y, eval_metric=\"rmse\", early_stopping_rounds=233, eval_set=[(valid_X, valid_y)], verbose=False)\nmean_absolute_error(model.predict(valid_X), valid_y)",
      "execution_count": null,
      "outputs": []
    },
    {
      "metadata": {
        "_cell_guid": "6c397f3a-a3b4-4661-bd66-7a22e7f5e685",
        "_uuid": "8e6029a823de525cf3a5eb39419d0521399abea7"
      },
      "cell_type": "markdown",
      "source": "### **Results: max_depth=3; min_child_weight=1**"
    },
    {
      "metadata": {
        "_cell_guid": "bc2a2bf1-4a21-491c-9dd1-138cb215e741",
        "_uuid": "bf52e4a0eeddb36125ba859dc1f9542cc9fe715c"
      },
      "cell_type": "markdown",
      "source": "## (2, 3, 4) gamma"
    },
    {
      "metadata": {
        "_cell_guid": "40a9aaf1-0cd5-43f4-857a-21dae2c93b9a",
        "_uuid": "449f30d439b867a1fcfbd7fc5df5f03e98c16e0d",
        "trusted": false,
        "collapsed": true
      },
      "cell_type": "code",
      "source": "%%time\nparams = {'gamma':[i/10 for i in range(0,6)]}\ngsearch2 = GridSearchCV(estimator = XGBRegressor(learning_rate =0.11899942, n_estimators=10000, max_depth=3, min_child_weight=1, gamma=0, subsample=0.8 ,colsample_bytree=0.8),\n                        return_train_score= True,\n                        param_grid = params,\n                        scoring='neg_mean_absolute_error',\n                        n_jobs=-1, \n                        iid=False,\n                        cv = 3)\ngsearch2.fit(train_X, train_y)",
      "execution_count": null,
      "outputs": []
    },
    {
      "metadata": {
        "_cell_guid": "810391dc-edc6-4aa0-a0fe-cd518cc12c2a",
        "_uuid": "12bc53cef153a46efb480280322552a75d56f70f",
        "trusted": false,
        "collapsed": true
      },
      "cell_type": "code",
      "source": "pd.DataFrame(gsearch2.cv_results_).sort_values('mean_test_score', ascending=False).loc[:, ['param_gamma', 'mean_test_score']]",
      "execution_count": null,
      "outputs": []
    },
    {
      "metadata": {
        "_cell_guid": "feb1a23a-1464-40cf-bdd6-0971ced4db53",
        "_uuid": "18342e62d0777e6bb7845fbdccc013b4cb9f149a"
      },
      "cell_type": "markdown",
      "source": "It seems that gamma of 0 and 0.1 are very close. Further testing in that range."
    },
    {
      "metadata": {
        "_cell_guid": "0d16041a-20a4-4896-b5c5-ff51960344c6",
        "_uuid": "6ea1649a9eb4b9a1dd6d4959cd29c972c33ed440",
        "scrolled": true,
        "trusted": false,
        "collapsed": true
      },
      "cell_type": "code",
      "source": "%%time\nparams = {'gamma': np.linspace(0.05, 0.15, 11)}\ngsearch3 = GridSearchCV(estimator = XGBRegressor(learning_rate =0.11899942, n_estimators=10000, max_depth=3, min_child_weight=1, gamma=0, subsample=0.8, colsample_bytree=0.8),\n                        return_train_score= True,\n                        param_grid = params,\n                        scoring='neg_mean_absolute_error',\n                        n_jobs=-1, \n                        iid=False,\n                        cv = 3)\ngsearch3.fit(train_X, train_y)",
      "execution_count": null,
      "outputs": []
    },
    {
      "metadata": {
        "_cell_guid": "2a022a12-4b30-4924-a7ec-e2fb4f778a4f",
        "_uuid": "71cce5d024598b5f30b4eeffe56d803082b52eaf",
        "scrolled": true,
        "trusted": false,
        "collapsed": true
      },
      "cell_type": "code",
      "source": "pd.DataFrame(gsearch3.cv_results_).sort_values('mean_test_score', ascending=False).loc[:, ['param_gamma', 'mean_test_score']]",
      "execution_count": null,
      "outputs": []
    },
    {
      "metadata": {
        "_cell_guid": "6ddf57f8-9a5e-4c04-8341-80d42b415269",
        "_uuid": "fcef65592f7e41c8f7698726d0201c2e09be7f58"
      },
      "cell_type": "markdown",
      "source": "Narrowing down one last time."
    },
    {
      "metadata": {
        "_cell_guid": "0d16041a-20a4-4896-b5c5-ff51960344c6",
        "_uuid": "6ea1649a9eb4b9a1dd6d4959cd29c972c33ed440",
        "scrolled": true,
        "trusted": false,
        "collapsed": true
      },
      "cell_type": "code",
      "source": "%%time\nparams = {'gamma': np.linspace(0.0085, 0.0095, 11)}\ngsearch4 = GridSearchCV(estimator = XGBRegressor(learning_rate =0.11899942, n_estimators=10000, max_depth=3, min_child_weight=1, gamma=0, subsample=0.8, colsample_bytree=0.8),\n                        return_train_score= True,\n                        param_grid = params,\n                        scoring='neg_mean_absolute_error',\n                        n_jobs=-1, \n                        iid=False,\n                        cv = 3)\ngsearch4.fit(train_X, train_y)",
      "execution_count": null,
      "outputs": []
    },
    {
      "metadata": {
        "_cell_guid": "53954378-2a27-41d0-92eb-cbaad1509866",
        "_uuid": "6b54f1c01ce17e8f03ca92d6a22b656d2d4353f2",
        "scrolled": true,
        "trusted": false,
        "collapsed": true
      },
      "cell_type": "code",
      "source": "pd.DataFrame(gsearch4.cv_results_).sort_values('mean_test_score', ascending=False).loc[:, ['param_gamma', 'mean_test_score']]",
      "execution_count": null,
      "outputs": []
    },
    {
      "metadata": {
        "_cell_guid": "3500ae68-c497-40e3-af66-90d6817b0f6d",
        "_uuid": "f7fab297bcab8adf2105d0399d873e010228fceb"
      },
      "cell_type": "markdown",
      "source": "### **Result: gamma = 0.0088**"
    },
    {
      "metadata": {
        "_cell_guid": "2b5562ae-518e-48de-a72e-d6f84477db1c",
        "_uuid": "5ab26ab76e385f07aa1e95ef932b7b96d43de4a0"
      },
      "cell_type": "markdown",
      "source": "## (5) subsample and colsample_bytree"
    },
    {
      "metadata": {
        "_cell_guid": "0d16041a-20a4-4896-b5c5-ff51960344c6",
        "_uuid": "6ea1649a9eb4b9a1dd6d4959cd29c972c33ed440",
        "scrolled": true,
        "trusted": false,
        "collapsed": true
      },
      "cell_type": "code",
      "source": "%%time\nparams = { 'subsample': np.linspace(0.6, 0.9, 4), 'colsample_bytree': np.linspace(0.6, 0.9, 4)}\ngsearch5 = GridSearchCV(estimator = XGBRegressor(learning_rate =0.11899942, n_estimators=10000, max_depth=3, min_child_weight=1, gamma=0, subsample=0.8, colsample_bytree=0.8),\n                        return_train_score= True,\n                        param_grid = params,\n                        scoring='neg_mean_absolute_error',\n                        n_jobs=-1, \n                        iid=False,\n                        cv = 3)\ngsearch5.fit(train_X, train_y)",
      "execution_count": null,
      "outputs": []
    },
    {
      "metadata": {
        "_cell_guid": "1456263f-cf5b-4947-a962-fb1c21ab2a94",
        "_uuid": "474b0e64d7fa9d652f0e93075994a82bc0fcd5e1",
        "scrolled": true,
        "trusted": false,
        "collapsed": true
      },
      "cell_type": "code",
      "source": "pd.DataFrame(gsearch5.cv_results_).sort_values('mean_test_score', ascending=False).loc[:, ['params', 'mean_test_score']]",
      "execution_count": null,
      "outputs": []
    },
    {
      "metadata": {
        "_cell_guid": "082eb794-d057-40d8-b973-60da05fe5b65",
        "_uuid": "ef36d106789ff7ffedb3c99277c70fb6900774ac"
      },
      "cell_type": "markdown",
      "source": "### **Result: colsample_bytree = 0.8; subsample=0.7**"
    },
    {
      "metadata": {
        "_cell_guid": "d2b070d4-b069-4795-b33c-c3736a95781c",
        "_uuid": "48d14e65fe2435e029ed06b926c6216df783553f"
      },
      "cell_type": "markdown",
      "source": "***\n# SUBMISSION"
    },
    {
      "metadata": {
        "_cell_guid": "3d26a904-e0ef-4b56-8521-9d3fc2a0f373",
        "_uuid": "0548451df31c454d755e38998913610e9d0f5411",
        "collapsed": true,
        "trusted": false
      },
      "cell_type": "code",
      "source": "# Data Retrieval\ndf = pd.read_csv('../input/train.csv')\n\n# Drop columns that hinder the model's efficacy\ndrop_cols = ['MiscFeature', 'Alley', 'Fence', 'Id']\nX = df.drop(drop_cols + ['SalePrice'], axis=1).copy()\ny = df.loc[:, ['SalePrice']].copy()\n\n# Submission Data\ntest = pd.read_csv('../input/test.csv').drop(drop_cols, axis=1).copy()\ntest_ids = pd.read_csv('../input/test.csv')['Id']\n\n# Creation of columns indicating what will be imputed\ncols_with_missing = (col for col in X.columns if X[col].isnull().any())\nfor col in cols_with_missing:\n    X[col + '_was_missing'] = X.loc[:, col].isnull()\n    test[col + '_was_missing'] = test.loc[:, col].isnull()\nassert X.shape[1] == test.shape[1], \"Imputation Indicator # Columns Mismatch\"\n\n# One-hot encode training predictors and align test data to it\none_hot_encoded_train_predictors = pd.get_dummies(X)\none_hot_encoded_train_predictors, final_test = one_hot_encoded_train_predictors.align(pd.get_dummies(test), join='inner', axis=1)\n\n# Split Dataset\ntrain_X, valid_X, train_y, valid_y = train_test_split(one_hot_encoded_train_predictors, y, random_state=7, test_size=0.1)",
      "execution_count": null,
      "outputs": []
    },
    {
      "metadata": {
        "_cell_guid": "c3bc4585-6ee9-4bda-9f69-c9dc27f9db36",
        "_uuid": "dbd4bbc35c62641f28651789308014ae44ababd5",
        "collapsed": true,
        "trusted": false
      },
      "cell_type": "code",
      "source": "# Model Training\nxgb = XGBRegressor(n_estimators=10000, learning_rate=0.11899942, n_jobs=-1, max_depth=3, min_child_weight=1, gamma=0.0088)\nmodel = xgb.fit(train_X, train_y, eval_metric=\"rmse\", early_stopping_rounds=233, eval_set=[(valid_X, valid_y)], verbose=False)",
      "execution_count": null,
      "outputs": []
    },
    {
      "metadata": {
        "_cell_guid": "765fc2ee-3277-4dd3-af27-8b1b391d2eb0",
        "_uuid": "1299aa3425683795737af9d65eebbe60e8aecf9c",
        "trusted": false,
        "collapsed": true
      },
      "cell_type": "code",
      "source": "mean_absolute_error(model.predict(valid_X), valid_y) #13916.308968321919",
      "execution_count": null,
      "outputs": []
    },
    {
      "metadata": {
        "_cell_guid": "458e0ffc-afe1-41f5-94f8-92626485fc60",
        "_uuid": "2fb627fb2c2340f7fad7ac07835ba64ee95f5098"
      },
      "cell_type": "markdown",
      "source": "# Final Submission\n"
    },
    {
      "metadata": {
        "_cell_guid": "793484c8-27cb-4075-9131-4bde8b65ace8",
        "_uuid": "668f8e712df387047371cd055587d96232c53945",
        "collapsed": true,
        "trusted": false
      },
      "cell_type": "code",
      "source": "predictions = model.predict(final_test)\nmy_submission = pd.DataFrame({'Id': test_ids, 'SalePrice': predictions})\nmy_submission.to_csv('submission.csv', index=False)",
      "execution_count": null,
      "outputs": []
    }
  ],
  "metadata": {
    "kernelspec": {
      "display_name": "Python 3",
      "language": "python",
      "name": "python3"
    },
    "language_info": {
      "name": "python",
      "version": "3.6.4",
      "mimetype": "text/x-python",
      "codemirror_mode": {
        "name": "ipython",
        "version": 3
      },
      "pygments_lexer": "ipython3",
      "nbconvert_exporter": "python",
      "file_extension": ".py"
    }
  },
  "nbformat": 4,
  "nbformat_minor": 1
}